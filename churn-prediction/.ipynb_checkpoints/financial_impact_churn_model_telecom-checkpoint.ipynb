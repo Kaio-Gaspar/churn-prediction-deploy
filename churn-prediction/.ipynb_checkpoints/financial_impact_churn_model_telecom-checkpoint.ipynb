{
 "cells": [
  {
   "cell_type": "markdown",
   "id": "cfcac2cc-05be-4302-8f96-9f09bbe28402",
   "metadata": {},
   "source": [
    "# Financial Impact Calculation of Churn Model\r\n",
    "\r\n",
    "This file is designed to calculate the financial impact of the churn prediction model applied to a telecommunications company. The goal is to assess how the insights provided by the model can influence the revenue and cost dynamics within the business.\r\n",
    "\r\n",
    "By analyzing customer churn data, we aim to quantify how targeted retention strategies can reduce churn and, consequently, the financial losses associated with customer turnover. This will involve calculating potential revenue retention through interventions such as discounts or personalized offers.\r\n",
    "\r\n",
    "In this notebook, we will:\r\n",
    "\r\n",
    "- Apply the churn model to customer data.\r\n",
    "- Simulate retention strategies based on the model's predictions.\r\n",
    "- Calculate the financial impact of reducing churn on overall revenue.\r\n"
   ]
  },
  {
   "cell_type": "markdown",
   "id": "2202eac8-c264-41a0-85c4-3a1986d5c121",
   "metadata": {},
   "source": [
    "---------------------------------------"
   ]
  },
  {
   "cell_type": "raw",
   "id": "3a3cb932-29d8-4766-abbd-cbc0c594f063",
   "metadata": {},
   "source": [
    "Considering a sample of 10,000 customers, 20% (2000) are predicted to cancel the service, with each subscription costing $150 per month.\n",
    "\n",
    "Studies suggest that offering a personalized discount can reduce the churn rate by 50%. However, for simplicity, I will use a standard approach of providing a 10% discount to all customers identified as likely to churn. In this case, only 20% of those labeled as churn would choose to stay after receiving the discount.lity.\r\n"
   ]
  },
  {
   "cell_type": "code",
   "execution_count": 238,
   "id": "fe9c3f5c-0a64-4571-b3a2-e20c10e04b62",
   "metadata": {},
   "outputs": [],
   "source": [
    "import numpy as np \n",
    "import pandas as pd\n",
    "import matplotlib.pyplot as plt\n",
    "import seaborn as sns"
   ]
  },
  {
   "cell_type": "code",
   "execution_count": 239,
   "id": "d34f8154-1cc2-42e5-b4e3-824024937c8a",
   "metadata": {},
   "outputs": [],
   "source": [
    "discount = 0.1\n",
    "\n",
    "n_customers = 10000\n",
    "\n",
    "churn_customers = 2000"
   ]
  },
  {
   "cell_type": "code",
   "execution_count": 240,
   "id": "abe595e8-e3de-46a9-9467-08f3819e681e",
   "metadata": {},
   "outputs": [],
   "source": [
    "# Generate customer data\n",
    "customer_ids = np.arange(1, n_customers + 1)\n",
    "churn_status = np.array([1] * churn_customers + [0] * (n_customers - churn_customers))"
   ]
  },
  {
   "cell_type": "code",
   "execution_count": 241,
   "id": "7f1e1e77-93ae-4ba5-aa5f-3d0d9cdc284c",
   "metadata": {},
   "outputs": [],
   "source": [
    "df = pd.DataFrame({\n",
    "    'customer_id': customer_ids,\n",
    "    'churn': churn_status,\n",
    "    'monthly_charge': 150\n",
    "})\n"
   ]
  },
  {
   "cell_type": "code",
   "execution_count": 242,
   "id": "38f4313c-8fc0-45e1-9681-fae461badc6e",
   "metadata": {},
   "outputs": [
    {
     "data": {
      "text/plain": [
       "churn\n",
       "0    8000\n",
       "1    2000\n",
       "Name: count, dtype: int64"
      ]
     },
     "execution_count": 242,
     "metadata": {},
     "output_type": "execute_result"
    }
   ],
   "source": [
    "df['churn'].value_counts()"
   ]
  },
  {
   "cell_type": "code",
   "execution_count": 243,
   "id": "63c38bc9-5ea9-4159-80a5-65a7ed16bdd6",
   "metadata": {},
   "outputs": [
    {
     "data": {
      "text/plain": [
       "monthly_charge\n",
       "150    10000\n",
       "Name: count, dtype: int64"
      ]
     },
     "execution_count": 243,
     "metadata": {},
     "output_type": "execute_result"
    }
   ],
   "source": [
    "df['monthly_charge'].value_counts()"
   ]
  },
  {
   "cell_type": "markdown",
   "id": "cb611f0a-5965-434d-b986-8a45a5d36d0e",
   "metadata": {},
   "source": [
    "## monthly income"
   ]
  },
  {
   "cell_type": "code",
   "execution_count": 245,
   "id": "72a91be0-41f1-4913-b4aa-2cbaa6412cf3",
   "metadata": {},
   "outputs": [
    {
     "data": {
      "text/plain": [
       "1500000"
      ]
     },
     "execution_count": 245,
     "metadata": {},
     "output_type": "execute_result"
    }
   ],
   "source": [
    "df['monthly_charge'].sum()"
   ]
  },
  {
   "cell_type": "raw",
   "id": "15067cf6-b742-436a-a69d-af26d8c6c857",
   "metadata": {},
   "source": [
    "monthly income without churn customers"
   ]
  },
  {
   "cell_type": "code",
   "execution_count": 246,
   "id": "96ab63c3-b5dc-491f-be6f-1a995aadf1a0",
   "metadata": {},
   "outputs": [
    {
     "data": {
      "text/plain": [
       "1200000"
      ]
     },
     "execution_count": 246,
     "metadata": {},
     "output_type": "execute_result"
    }
   ],
   "source": [
    "df['monthly_charge'].loc[df['churn'] == 0].sum()"
   ]
  },
  {
   "cell_type": "markdown",
   "id": "1759d359-d047-4946-887d-be8dd2c55f1e",
   "metadata": {},
   "source": [
    "## Income loss"
   ]
  },
  {
   "cell_type": "code",
   "execution_count": 248,
   "id": "30b34f30-1583-4cb4-987c-e23885ac8e62",
   "metadata": {},
   "outputs": [
    {
     "data": {
      "text/plain": [
       "300000"
      ]
     },
     "execution_count": 248,
     "metadata": {},
     "output_type": "execute_result"
    }
   ],
   "source": [
    "df['monthly_charge'].sum() - df['monthly_charge'].loc[df['churn'] == 0].sum()"
   ]
  },
  {
   "cell_type": "code",
   "execution_count": 249,
   "id": "a6acb4e9-713b-492c-96f7-b4a4231f58c4",
   "metadata": {},
   "outputs": [
    {
     "data": {
      "image/png": "[encoded data removed]",
      "text/plain": [
       "<Figure size 640x480 with 1 Axes>"
      ]
     },
     "metadata": {},
     "output_type": "display_data"
    }
   ],
   "source": [
    "# Calculate the revenue from churned and non-churned customers\n",
    "revenue_churned = df['monthly_charge'].loc[df['churn'] == 1].sum()\n",
    "revenue_retained = df['monthly_charge'].loc[df['churn'] == 0].sum()\n",
    "\n",
    "# Create a DataFrame to hold the revenue data\n",
    "revenue_data = pd.DataFrame({\n",
    "    'Status': ['Churned', 'Retained'],\n",
    "    'Revenue': [revenue_churned, revenue_retained]\n",
    "})\n",
    "\n",
    "sns.barplot(x='Status', y='Revenue', data=revenue_data)\n",
    "plt.title('Revenue from Churned vs Retained Customers')\n",
    "plt.ylabel('Revenue ($)')\n",
    "plt.show()\n"
   ]
  },
  {
   "cell_type": "markdown",
   "id": "57fde0b0-3f79-4b51-af4d-b6cb67bcd9c8",
   "metadata": {},
   "source": [
    "## Model Classification Report"
   ]
  },
  {
   "attachments": {
    "da5285d8-dc24-4dc2-aaf6-21ce9a778c84.png": {
     "image/png": "[encoded data removed]"
    }
   },
   "cell_type": "markdown",
   "id": "f355c0bf-6675-426a-b168-92c2f1117024",
   "metadata": {},
   "source": [
    "![image.png](attachment:da5285d8-dc24-4dc2-aaf6-21ce9a778c84.png)"
   ]
  },
  {
   "cell_type": "markdown",
   "id": "a6874a63-3052-4853-9918-fbcaf9f8d4d1",
   "metadata": {},
   "source": [
    "### applying\n",
    "\n",
    "- Precision for Churn (class 1) = 0.91\n",
    "- Recall for Churn (class 1) = 0.87\n",
    "- F1-Score for Churn = 0.89"
   ]
  },
  {
   "cell_type": "code",
   "execution_count": 253,
   "id": "b082a3c5-f07e-4dc0-9069-a3c5c7989ef4",
   "metadata": {},
   "outputs": [
    {
     "data": {
      "text/plain": [
       "300000"
      ]
     },
     "execution_count": 253,
     "metadata": {},
     "output_type": "execute_result"
    }
   ],
   "source": [
    "revenue_churned"
   ]
  },
  {
   "cell_type": "code",
   "execution_count": 254,
   "id": "f1704b88-6f65-49cf-a566-345154d81246",
   "metadata": {},
   "outputs": [],
   "source": [
    "recall_1 = 0.87"
   ]
  },
  {
   "cell_type": "code",
   "execution_count": 335,
   "id": "ef1a4799-4a69-4810-93f1-6ab31cf98c82",
   "metadata": {},
   "outputs": [],
   "source": [
    "n_churn_customers_detected = (churn_customers * recall_1)*0.2\n",
    "n_churn_customers_no_detected = churn_customers - n_churn_customers_detected"
   ]
  },
  {
   "cell_type": "code",
   "execution_count": 337,
   "id": "cfadd3cf-ce9a-4b8e-ad7d-c7afe6db409d",
   "metadata": {},
   "outputs": [],
   "source": [
    "churn_customers_revenue_before_discount = n_churn_customers_detected * 150\n",
    "churn_customers_revenue_after_discount = churn_customers_revenue_before_discount * (1 - discount)"
   ]
  },
  {
   "cell_type": "code",
   "execution_count": 339,
   "id": "0f785281-c3ae-48a7-bd38-dbb2cbcf4f9a",
   "metadata": {},
   "outputs": [
    {
     "data": {
      "text/plain": [
       "52200.0"
      ]
     },
     "execution_count": 339,
     "metadata": {},
     "output_type": "execute_result"
    }
   ],
   "source": [
    "churn_customers_revenue_before_discount"
   ]
  },
  {
   "cell_type": "code",
   "execution_count": 341,
   "id": "0387f97b-2560-4d8d-b443-c7ba3978072c",
   "metadata": {},
   "outputs": [
    {
     "data": {
      "text/plain": [
       "46980.0"
      ]
     },
     "execution_count": 341,
     "metadata": {},
     "output_type": "execute_result"
    }
   ],
   "source": [
    "churn_customers_revenue_after_discount"
   ]
  },
  {
   "cell_type": "markdown",
   "id": "90e18796-db3a-42e2-8c7b-2f5caa6c8875",
   "metadata": {},
   "source": [
    "## revenue lost in discount"
   ]
  },
  {
   "cell_type": "code",
   "execution_count": 343,
   "id": "0b7588c2-3b4a-4daf-bf35-61c93afc4302",
   "metadata": {},
   "outputs": [
    {
     "data": {
      "text/plain": [
       "5220.0"
      ]
     },
     "execution_count": 343,
     "metadata": {},
     "output_type": "execute_result"
    }
   ],
   "source": [
    "churn_customers_revenue_before_discount - churn_customers_revenue_after_discount"
   ]
  },
  {
   "cell_type": "code",
   "execution_count": 345,
   "id": "efee1bb8-8f3c-4d1a-8c16-03f13ec45a27",
   "metadata": {},
   "outputs": [
    {
     "data": {
      "text/plain": [
       "1246980.0"
      ]
     },
     "execution_count": 345,
     "metadata": {},
     "output_type": "execute_result"
    }
   ],
   "source": [
    "total_revenue_model = revenue_retained + churn_customers_revenue_after_discount\n",
    "total_revenue_model"
   ]
  },
  {
   "cell_type": "markdown",
   "id": "f6c84eaf-f62f-4d98-a9a7-5eb24716833b",
   "metadata": {},
   "source": [
    "## Revenue save by the model"
   ]
  },
  {
   "cell_type": "code",
   "execution_count": 299,
   "id": "ed74d843-fc06-4e9e-9479-bdb9ba306bf0",
   "metadata": {},
   "outputs": [
    {
     "data": {
      "text/plain": [
       "234900.0"
      ]
     },
     "execution_count": 299,
     "metadata": {},
     "output_type": "execute_result"
    }
   ],
   "source": [
    "total_revenue_model - (df['monthly_charge'].loc[df['churn'] == 0].sum())"
   ]
  },
  {
   "cell_type": "code",
   "execution_count": 313,
   "id": "a59100ee-9417-421c-a7a6-782b5a2712c9",
   "metadata": {},
   "outputs": [
    {
     "data": {
      "text/plain": [
       "19.575"
      ]
     },
     "execution_count": 313,
     "metadata": {},
     "output_type": "execute_result"
    }
   ],
   "source": [
    "# percentage of revenue improvement\n",
    "(1-(df['monthly_charge'].loc[df['churn'] == 0].sum() - (total_revenue_model - (df['monthly_charge'].loc[df['churn'] == 0].sum())))/(df['monthly_charge'].loc[df['churn'] == 0].sum()))*100"
   ]
  },
  {
   "cell_type": "markdown",
   "id": "a69d3906-f399-4c8d-839e-b7ba72ae2f83",
   "metadata": {},
   "source": [
    "## revenue lost due the churn with the model"
   ]
  },
  {
   "cell_type": "code",
   "execution_count": 316,
   "id": "bd349f52-058f-45c2-910e-050eb76d7f8b",
   "metadata": {},
   "outputs": [
    {
     "data": {
      "text/plain": [
       "39000.0"
      ]
     },
     "execution_count": 316,
     "metadata": {},
     "output_type": "execute_result"
    }
   ],
   "source": [
    "n_churn_customers_no_detected * 150"
   ]
  }
 ],
 "metadata": {
  "kernelspec": {
   "display_name": "Python 3 (ipykernel)",
   "language": "python",
   "name": "python3"
  },
  "language_info": {
   "codemirror_mode": {
    "name": "ipython",
    "version": 3
   },
   "file_extension": ".py",
   "mimetype": "text/x-python",
   "name": "python",
   "nbconvert_exporter": "python",
   "pygments_lexer": "ipython3",
   "version": "3.12.4"
  }
 },
 "nbformat": 4,
 "nbformat_minor": 5
}
